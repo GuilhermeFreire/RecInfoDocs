{
 "cells": [
  {
   "cell_type": "code",
   "execution_count": 1,
   "metadata": {
    "collapsed": true
   },
   "outputs": [],
   "source": [
    "import numpy as np"
   ]
  },
  {
   "cell_type": "code",
   "execution_count": 34,
   "metadata": {},
   "outputs": [
    {
     "name": "stdout",
     "output_type": "stream",
     "text": [
      "[[ 0.05  0.05  0.85  0.05]\n",
      " [ 0.45  0.05  0.05  0.05]\n",
      " [ 0.45  0.85  0.05  0.85]\n",
      " [ 0.05  0.05  0.05  0.05]]\n"
     ]
    }
   ],
   "source": [
    "adj = np.zeros((4,4))\n",
    "\n",
    "beta = 0.8\n",
    "\n",
    "visA = [1,2]\n",
    "visB = [2]\n",
    "visC = [0]\n",
    "visD = [2]\n",
    "\n",
    "adj[0,visA] = 1.0/len(visA)\n",
    "adj[1,visB] = 1.0/len(visB)\n",
    "adj[2,visC] = 1.0/len(visC)\n",
    "adj[3,visD] = 1.0/len(visD)\n",
    "\n",
    "leak = np.ones(adj.shape)/adj.shape[0]\n",
    "\n",
    "final = beta*adj.T + (1.0-beta)*leak\n",
    "# print(adj)\n",
    "# print(leak)\n",
    "print(final)"
   ]
  },
  {
   "cell_type": "code",
   "execution_count": 35,
   "metadata": {},
   "outputs": [
    {
     "name": "stdout",
     "output_type": "stream",
     "text": [
      "[ 0.25  0.25  0.25  0.25]\n"
     ]
    }
   ],
   "source": [
    "vinit = np.ones(4)/4\n",
    "print(vinit)"
   ]
  },
  {
   "cell_type": "code",
   "execution_count": 36,
   "metadata": {},
   "outputs": [
    {
     "name": "stdout",
     "output_type": "stream",
     "text": [
      "[ 0.36320755  0.19528302  0.39150943  0.05      ]\n"
     ]
    }
   ],
   "source": [
    "epochs = 60\n",
    "v = vinit\n",
    "for epoch in range(epochs):\n",
    "    v = np.matmul(final,v.T)\n",
    "print(v)"
   ]
  },
  {
   "cell_type": "code",
   "execution_count": null,
   "metadata": {
    "collapsed": true
   },
   "outputs": [],
   "source": []
  }
 ],
 "metadata": {
  "kernelspec": {
   "display_name": "Python 3",
   "language": "python",
   "name": "python3"
  },
  "language_info": {
   "codemirror_mode": {
    "name": "ipython",
    "version": 3
   },
   "file_extension": ".py",
   "mimetype": "text/x-python",
   "name": "python",
   "nbconvert_exporter": "python",
   "pygments_lexer": "ipython3",
   "version": "3.5.2"
  }
 },
 "nbformat": 4,
 "nbformat_minor": 2
}
